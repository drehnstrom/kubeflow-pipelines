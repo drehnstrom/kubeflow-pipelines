{
  "cells": [
    {
      "cell_type": "markdown",
      "source": [
        "# Basic Kubeflow Pipeline with Control Flow Logic\n",
        "\n",
        "Demonstrate how to build Python components and a simple pipeline and a simple if statement.\n",
        "\n",
        "1. Creqte the components. There is a flip_coin component that determine if we add or multiply.\n",
        "2. Define the pipeline. Note the if logic that branches the pipeline based on the coin flip."
      ],
      "metadata": {
        "id": "9J0eN9BL4v3f"
      },
      "id": "9J0eN9BL4v3f"
    },
    {
      "cell_type": "code",
      "metadata": {
        "tags": [],
        "id": "FSNJ53CV1EK0aWrSXJiRAcKB"
      },
      "source": [
        "! pip install --upgrade --quiet google-cloud-aiplatform kfp google-cloud-storage"
      ],
      "execution_count": null,
      "outputs": [],
      "id": "FSNJ53CV1EK0aWrSXJiRAcKB"
    },
    {
      "cell_type": "markdown",
      "source": [
        "## Set the required libraries and variables"
      ],
      "metadata": {
        "id": "6LdUltHpEGLC"
      },
      "id": "6LdUltHpEGLC"
    },
    {
      "cell_type": "code",
      "source": [
        "import os\n",
        "import kfp\n",
        "from kfp import compiler\n",
        "from kfp.dsl import component, pipeline, If\n",
        "from google.cloud import aiplatform\n",
        "\n",
        "# Change these values to match your project setup\n",
        "PROJECT_ID = ! gcloud config get-value project\n",
        "PROJECT_ID = PROJECT_ID[0]\n",
        "\n",
        "# define project information manually if the above code didn't work\n",
        "if PROJECT_ID == \"(unset)\":\n",
        "  PROJECT_ID = \"[your-project-id]\" # @param {type:\"string\"}\n",
        "\n",
        "print(PROJECT_ID)\n",
        "\n",
        "REGION = \"us-central1\" # @param {type:\"string\"}\n",
        "\n",
        "# An existing bucket to store pipeline artifacts.\n",
        "BUCKET_NAME = \"basic-kf-pipelines-mlops-dar\" # @param {type:\"string\"}\n",
        "\n",
        "# Set default values for aiplatform\n",
        "aiplatform.init(project=PROJECT_ID, location=REGION, staging_bucket=f\"gs://{BUCKET_NAME}\")\n"
      ],
      "metadata": {
        "id": "nZn8y0JZzxHK"
      },
      "execution_count": null,
      "outputs": [],
      "id": "nZn8y0JZzxHK"
    },
    {
      "cell_type": "markdown",
      "source": [
        "# Create the Components"
      ],
      "metadata": {
        "id": "DoeByGM61s9Q"
      },
      "id": "DoeByGM61s9Q"
    },
    {
      "cell_type": "code",
      "source": [
        "@component(\n",
        "    packages_to_install=[\"pandas\"],\n",
        "    base_image=\"python:3.9\"\n",
        ")\n",
        "def say_hello(name: str) -> str:\n",
        "    \"\"\"\n",
        "    A simple component that returns a 'Hello <name>!' string.\n",
        "    \"\"\"\n",
        "    message = f\"Hello {name}!\"\n",
        "    print(message)\n",
        "    return message\n",
        "\n",
        "@component(\n",
        "    packages_to_install=[],\n",
        "    base_image=\"python:3.9\"\n",
        ")\n",
        "def add_numbers(x: float, y: float) -> float:\n",
        "    \"\"\"\n",
        "    Adds two numbers and returns the result.\n",
        "    \"\"\"\n",
        "    result = x + y\n",
        "    print(f\"Adding {x} + {y} = {result}\")\n",
        "    return result\n",
        "\n",
        "@component(\n",
        "    packages_to_install=[],\n",
        "    base_image=\"python:3.9\"\n",
        ")\n",
        "def multiply_numbers(x: float, y: float) -> float:\n",
        "    \"\"\"\n",
        "    Multiplies two numbers and returns the result.\n",
        "    \"\"\"\n",
        "    result = x * y\n",
        "    print(f\"Multiplying {x} * {y} = {result}\")\n",
        "    return result\n",
        "\n",
        "@component(\n",
        "    packages_to_install=[],\n",
        "    base_image=\"python:3.9\"\n",
        ")\n",
        "def flip_coin() -> str:\n",
        "    \"\"\"\n",
        "    Returns 'heads' or 'tails' randomly.\n",
        "    \"\"\"\n",
        "    import random\n",
        "    return \"heads\" if random.random() < 0.5 else \"tails\"\n",
        "\n",
        "@component(\n",
        "    packages_to_install=[],\n",
        "    base_image=\"python:3.9\"\n",
        ")\n",
        "def compose_message(name: str, x: float, y: float, operation: str, result: float) -> str:\n",
        "    \"\"\"\n",
        "    Composes a message that includes the name, the two numbers,\n",
        "    the operation ('plus' or 'times'), and the result.\n",
        "    \"\"\"\n",
        "    message = f\"Thanks, {name}. {x} {operation} {y} = {result}.\"\n",
        "    print(message)\n",
        "    return message\n"
      ],
      "metadata": {
        "id": "COXRj2Zu0qCi"
      },
      "execution_count": null,
      "outputs": [],
      "id": "COXRj2Zu0qCi"
    },
    {
      "cell_type": "markdown",
      "source": [
        "## Build the Pipeline\n",
        "\n",
        "Note the If logic"
      ],
      "metadata": {
        "id": "PrEKMl1bETal"
      },
      "id": "PrEKMl1bETal"
    },
    {
      "cell_type": "code",
      "source": [
        "@pipeline(\n",
        "    name=\"simple-demo-pipeline-with-flip\",\n",
        "    description=\"A pipeline that prints a greeting, flips a coin, then either multiplies or adds two numbers, and composes a final message.\"\n",
        ")\n",
        "def my_simple_pipeline_with_flip(\n",
        "    name_value: str = \"Joe\",\n",
        "    x_value: float = 3.0,\n",
        "    y_value: float = 4.0\n",
        "):\n",
        "    # Step 1: Say hello\n",
        "    hello_task = say_hello(name=name_value)\n",
        "\n",
        "    # Step 2: Flip coin\n",
        "    coin_task = flip_coin()\n",
        "\n",
        "    # Step 3: If heads => multiply\n",
        "    with If(coin_task.output == \"heads\"):\n",
        "        multiply_task = multiply_numbers(x=x_value, y=y_value)\n",
        "        compose_message(\n",
        "            name=name_value,\n",
        "            x=x_value,\n",
        "            y=y_value,\n",
        "            operation=\"times\",\n",
        "            result=multiply_task.output\n",
        "        )\n",
        "\n",
        "    # Step 4: If tails => add\n",
        "    with If(coin_task.output == \"tails\"):\n",
        "        add_task = add_numbers(x=x_value, y=y_value)\n",
        "        compose_message(\n",
        "            name=name_value,\n",
        "            x=x_value,\n",
        "            y=y_value,\n",
        "            operation=\"plus\",\n",
        "            result=add_task.output\n",
        "        )\n",
        "\n"
      ],
      "metadata": {
        "id": "siyS_hbW04YK"
      },
      "execution_count": null,
      "outputs": [],
      "id": "siyS_hbW04YK"
    },
    {
      "cell_type": "markdown",
      "source": [
        "## Compile the Pipeline to a JSON file"
      ],
      "metadata": {
        "id": "kP1WwQBCEnMb"
      },
      "id": "kP1WwQBCEnMb"
    },
    {
      "cell_type": "code",
      "source": [
        "from kfp.v2 import compiler\n",
        "\n",
        "pipeline_filename = \"my_simple_pipeline_job_wit_flip.json\"\n",
        "compiler.Compiler().compile(\n",
        "    pipeline_func=my_simple_pipeline_with_flip,\n",
        "    package_path=pipeline_filename\n",
        ")\n",
        "\n",
        "print(f\"Pipeline compiled to {pipeline_filename}\")\n"
      ],
      "metadata": {
        "colab": {
          "base_uri": "https://localhost:8080/"
        },
        "id": "aQTRRTt21ZI1",
        "executionInfo": {
          "status": "ok",
          "timestamp": 1739025101408,
          "user_tz": 300,
          "elapsed": 160,
          "user": {
            "displayName": "",
            "userId": ""
          }
        },
        "outputId": "7ea9da36-fe00-4eb2-d541-4465638f7ed1"
      },
      "execution_count": null,
      "outputs": [
        {
          "output_type": "stream",
          "name": "stdout",
          "text": [
            "Pipeline compiled to my_simple_pipeline_job_wit_flip.json\n"
          ]
        }
      ],
      "id": "aQTRRTt21ZI1"
    },
    {
      "cell_type": "markdown",
      "source": [
        "## Submit the job to Vertex AI Pipelines"
      ],
      "metadata": {
        "id": "5cShIZ72Es8U"
      },
      "id": "5cShIZ72Es8U"
    },
    {
      "cell_type": "code",
      "source": [
        "from google.cloud.aiplatform import PipelineJob\n",
        "\n",
        "# Create a PipelineJob and submit\n",
        "job = PipelineJob(\n",
        "    display_name=\"my-simple-demo-pipeline-job\",\n",
        "    template_path=pipeline_filename,  # The JSON artifact produced by compilation\n",
        "    pipeline_root=f\"gs://{BUCKET_NAME}/pipeline_root\",  # Where Vertex AI will store pipeline artifacts\n",
        "    parameter_values={\n",
        "        \"name_value\": \"Steve\", # override default\n",
        "        \"x_value\": 27.4,  # override default\n",
        "        \"y_value\": 53.22,  # override default\n",
        "    },\n",
        "    enable_caching=False,  # Need to turn caching off or the coin flip is the same everytime\n",
        ")\n",
        "\n",
        "# Note: If caching is true, but the parameter change the task is re-run.\n",
        "# If caching is true, but the parameters don't change, tasks are not re-run.\n",
        "\n",
        "# Runs the job and waits for it to finish\n",
        "# job.run()\n",
        "\n",
        "# Submits the job to Vertex AI Pipelines and completes immediately\n",
        "job.submit()"
      ],
      "metadata": {
        "colab": {
          "base_uri": "https://localhost:8080/"
        },
        "id": "lkjiVHoF1dX9",
        "executionInfo": {
          "status": "ok",
          "timestamp": 1739025514882,
          "user_tz": 300,
          "elapsed": 528,
          "user": {
            "displayName": "",
            "userId": ""
          }
        },
        "outputId": "987f10d2-138f-440c-8cc4-4c04747ededc"
      },
      "execution_count": null,
      "outputs": [
        {
          "output_type": "stream",
          "name": "stderr",
          "text": [
            "INFO:google.cloud.aiplatform.pipeline_jobs:Creating PipelineJob\n",
            "INFO:google.cloud.aiplatform.pipeline_jobs:PipelineJob created. Resource name: projects/117114503109/locations/us-central1/pipelineJobs/simple-demo-pipeline-with-flip-20250208143834\n",
            "INFO:google.cloud.aiplatform.pipeline_jobs:To use this PipelineJob in another session:\n",
            "INFO:google.cloud.aiplatform.pipeline_jobs:pipeline_job = aiplatform.PipelineJob.get('projects/117114503109/locations/us-central1/pipelineJobs/simple-demo-pipeline-with-flip-20250208143834')\n",
            "INFO:google.cloud.aiplatform.pipeline_jobs:View Pipeline Job:\n",
            "https://console.cloud.google.com/vertex-ai/locations/us-central1/pipelines/runs/simple-demo-pipeline-with-flip-20250208143834?project=117114503109\n"
          ]
        }
      ],
      "id": "lkjiVHoF1dX9"
    },
    {
      "cell_type": "markdown",
      "source": [],
      "metadata": {
        "id": "C6ofir6y4R0t"
      },
      "id": "C6ofir6y4R0t"
    }
  ],
  "metadata": {
    "kernelspec": {
      "display_name": "Python 3",
      "language": "python",
      "name": "python3"
    },
    "language_info": {
      "codemirror_mode": {
        "name": "ipython",
        "version": 3
      },
      "file_extension": ".py",
      "mimetype": "text/x-python",
      "name": "python",
      "nbconvert_exporter": "python",
      "pygments_lexer": "ipython3",
      "version": "3.10.10"
    },
    "colab": {
      "provenance": [],
      "name": "2-kfp-pipeline-with-control-flow"
    }
  },
  "nbformat": 4,
  "nbformat_minor": 5
}