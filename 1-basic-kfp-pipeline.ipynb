{
  "cells": [
    {
      "cell_type": "markdown",
      "source": [
        "# Basic Kubeflow Pipeline\n",
        "\n",
        "Demonstrate how to build Python components and a simple pipeline\n",
        "\n",
        "1. Create 3 components: say_hello, add, and compose_message\n",
        "2. Build the pipeline that: Runs the tasks say_hello and add in parallel. Because compose_message requires the output from add those are run sequentially."
      ],
      "metadata": {
        "id": "9J0eN9BL4v3f"
      },
      "id": "9J0eN9BL4v3f"
    },
    {
      "cell_type": "code",
      "id": "FSNJ53CV1EK0aWrSXJiRAcKB",
      "metadata": {
        "tags": [],
        "id": "FSNJ53CV1EK0aWrSXJiRAcKB"
      },
      "source": [
        "! pip install --upgrade --quiet google-cloud-aiplatform kfp google-cloud-storage"
      ],
      "execution_count": null,
      "outputs": []
    },
    {
      "cell_type": "markdown",
      "source": [
        "## Import required libraries and set variables"
      ],
      "metadata": {
        "id": "u6ibtv6OCTXS"
      },
      "id": "u6ibtv6OCTXS"
    },
    {
      "cell_type": "code",
      "source": [
        "import os\n",
        "import kfp\n",
        "from kfp import compiler\n",
        "from kfp.dsl import component, pipeline\n",
        "from google.cloud import aiplatform\n",
        "\n",
        "# Change these values to match your project setup\n",
        "PROJECT_ID = ! gcloud config get-value project\n",
        "PROJECT_ID = PROJECT_ID[0]\n",
        "\n",
        "# define project information manually if the above code didn't work\n",
        "if PROJECT_ID == \"(unset)\":\n",
        "  PROJECT_ID = \"[your-project-id]\" # @param {type:\"string\"}\n",
        "\n",
        "print(PROJECT_ID)\n",
        "\n",
        "REGION = \"us-central1\" # @param {type:\"string\"}\n",
        "\n",
        "# An existing bucket to store pipeline artifacts.\n",
        "BUCKET_NAME = \"basic-kf-pipelines-mlops-dar\" # @param {type:\"string\"}\n",
        "\n",
        "# Set default values for aiplatform\n",
        "aiplatform.init(project=PROJECT_ID, location=REGION, staging_bucket=f\"gs://{BUCKET_NAME}\")\n"
      ],
      "metadata": {
        "id": "nZn8y0JZzxHK"
      },
      "id": "nZn8y0JZzxHK",
      "execution_count": null,
      "outputs": []
    },
    {
      "cell_type": "markdown",
      "source": [
        "## Define the Pipeline components.\n",
        "\n",
        "These are just Python functions with the component decorator."
      ],
      "metadata": {
        "id": "DoeByGM61s9Q"
      },
      "id": "DoeByGM61s9Q"
    },
    {
      "cell_type": "code",
      "source": [
        "@component(\n",
        "    packages_to_install=[\"pandas\"],  # example: you can list additional packages if needed\n",
        "    base_image=\"python:3.9\"          # a Python base image that has what you need\n",
        ")\n",
        "def say_hello(name: str) -> str:\n",
        "    \"\"\"\n",
        "    A simple component that returns a hello world string.\n",
        "    \"\"\"\n",
        "    message = f\"Hello {name}!\"\n",
        "    print(message)\n",
        "    return message\n",
        "\n",
        "@component(\n",
        "    packages_to_install=[],\n",
        "    base_image=\"python:3.9\"\n",
        ")\n",
        "def add_numbers(x: float, y: float) -> float:\n",
        "    \"\"\"\n",
        "    Adds two numbers and returns the result.\n",
        "    \"\"\"\n",
        "    result = x + y\n",
        "    print(f\"Adding {x} + {y} = {result}\")\n",
        "    return result\n",
        "\n",
        "@component(\n",
        "    packages_to_install=[],\n",
        "    base_image=\"python:3.9\"\n",
        ")\n",
        "def compose_message(name: str, x: float, y: float, result: float) -> str:\n",
        "    \"\"\"Composes a thank-you message that includes the name, the two numbers, and their sum.\"\"\"\n",
        "    message = f\"Thanks, {name}. {x} and {y} added together equals {result}.\"\n",
        "    print(message)\n",
        "    return message\n"
      ],
      "metadata": {
        "id": "COXRj2Zu0qCi"
      },
      "id": "COXRj2Zu0qCi",
      "execution_count": null,
      "outputs": []
    },
    {
      "cell_type": "markdown",
      "source": [
        "## Define the Pipeline using the Components"
      ],
      "metadata": {
        "id": "5ek-sytVC8hk"
      },
      "id": "5ek-sytVC8hk"
    },
    {
      "cell_type": "code",
      "source": [
        "@pipeline(\n",
        "    name=\"simple-pipeline\",  # Pipeline name\n",
        "    description=\"A simple pipeline that adds two numbers and outputs the results.\"\n",
        ")\n",
        "def my_simple_pipeline(\n",
        "    name_value: str = \"Joe\",\n",
        "    x_value: float = 1.0,\n",
        "    y_value: float = 4.0\n",
        "):\n",
        "    # Step 1: Print \"Hello World\"\n",
        "    hello_task = say_hello(name=name_value)\n",
        "\n",
        "    # Step 2: Add two numbers\n",
        "    add_task = add_numbers(x=x_value, y=y_value)\n",
        "\n",
        "    # Step 3: Compose a thank-you message\n",
        "    compose_task = compose_message(\n",
        "        name=name_value,\n",
        "        x=x_value,\n",
        "        y=y_value,\n",
        "        result=add_task.output\n",
        "    )\n",
        "\n"
      ],
      "metadata": {
        "id": "siyS_hbW04YK"
      },
      "id": "siyS_hbW04YK",
      "execution_count": null,
      "outputs": []
    },
    {
      "cell_type": "markdown",
      "source": [
        "## Compile the pipeline to a JSON file"
      ],
      "metadata": {
        "id": "BDyPdRJNDEyz"
      },
      "id": "BDyPdRJNDEyz"
    },
    {
      "cell_type": "code",
      "source": [
        "from kfp.v2 import compiler\n",
        "\n",
        "pipeline_filename = \"my_simple_pipeline_job.json\"\n",
        "compiler.Compiler().compile(\n",
        "    pipeline_func=my_simple_pipeline,\n",
        "    package_path=pipeline_filename\n",
        ")\n",
        "\n",
        "print(f\"Pipeline compiled to {pipeline_filename}\")\n"
      ],
      "metadata": {
        "id": "aQTRRTt21ZI1"
      },
      "id": "aQTRRTt21ZI1",
      "execution_count": null,
      "outputs": []
    },
    {
      "cell_type": "markdown",
      "source": [
        "# Run the Pipeline on Vertex AI Pipelines\n",
        "\n",
        "Note: You could run a pipeline on any machine, but since our goal is running pipelines using Google Components we will run them in Google Cloud."
      ],
      "metadata": {
        "id": "c8Nw_xCcDK8x"
      },
      "id": "c8Nw_xCcDK8x"
    },
    {
      "cell_type": "code",
      "source": [
        "from google.cloud.aiplatform import PipelineJob\n",
        "\n",
        "# Create a PipelineJob and submit\n",
        "job = PipelineJob(\n",
        "    display_name=\"my-simple-demo-pipeline-job\",\n",
        "    template_path=pipeline_filename,  # The JSON artifact produced by compilation\n",
        "    pipeline_root=f\"gs://{BUCKET_NAME}/pipeline_root\",  # Where Vertex AI will store pipeline artifacts\n",
        "    parameter_values={\n",
        "        \"name_value\": \"Steve\", # override default\n",
        "        \"x_value\": 27.4,  # override default\n",
        "        \"y_value\": 53.22,  # override default\n",
        "    },\n",
        "    enable_caching=True,  # to enable or disable caching\n",
        ")\n",
        "\n",
        "# Note: If caching is true, but the parameter change the task is re-run.\n",
        "# If caching is true, but the parameters don't change, tasks are not re-run.\n",
        "\n",
        "# Runs the job and waits for it to finish\n",
        "# job.run()\n",
        "\n",
        "# Submits the job to Vertex AI Pipelines and ends\n",
        "job.submit()"
      ],
      "metadata": {
        "id": "lkjiVHoF1dX9"
      },
      "id": "lkjiVHoF1dX9",
      "execution_count": null,
      "outputs": []
    },
    {
      "cell_type": "markdown",
      "source": [],
      "metadata": {
        "id": "C6ofir6y4R0t"
      },
      "id": "C6ofir6y4R0t"
    }
  ],
  "metadata": {
    "kernelspec": {
      "display_name": "Python 3",
      "language": "python",
      "name": "python3"
    },
    "language_info": {
      "codemirror_mode": {
        "name": "ipython",
        "version": 3
      },
      "file_extension": ".py",
      "mimetype": "text/x-python",
      "name": "python",
      "nbconvert_exporter": "python",
      "pygments_lexer": "ipython3",
      "version": "3.10.10"
    },
    "colab": {
      "provenance": [],
      "name": "1-basic-kfp-pipeline"
    }
  },
  "nbformat": 4,
  "nbformat_minor": 5
}