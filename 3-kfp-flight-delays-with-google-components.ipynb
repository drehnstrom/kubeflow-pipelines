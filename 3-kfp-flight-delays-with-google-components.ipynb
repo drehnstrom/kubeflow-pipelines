{
  "cells": [
    {
      "cell_type": "markdown",
      "source": [
        "# Kubeflow Pipeline that Uses Vertex AI to train and deploy a model\n",
        "\n",
        "Demonstrates how to use Google Kubeflow Components to do the following.\n",
        "\n",
        "1. Create a Vertex AI Tabular Dataset\n",
        "2. Run the Training job with AutoML\n",
        "3. Create an Enpoint\n",
        "4. Deploy the Model to the Endpoint"
      ],
      "metadata": {
        "id": "AkBbBWB6KxRJ"
      },
      "id": "AkBbBWB6KxRJ"
    },
    {
      "cell_type": "code",
      "id": "lvLxjRv0Q6WEEF8CIQRK9yJ2",
      "metadata": {
        "tags": [],
        "id": "lvLxjRv0Q6WEEF8CIQRK9yJ2"
      },
      "source": [
        "!pip install --upgrade google-cloud-aiplatform google-cloud-pipeline-components kfp"
      ],
      "execution_count": null,
      "outputs": []
    },
    {
      "cell_type": "code",
      "source": [
        "# Change these values to match your project setup\n",
        "PROJECT_ID = ! gcloud config get-value project\n",
        "PROJECT_ID = PROJECT_ID[0]\n",
        "\n",
        "# define project information manually if the above code didn't work\n",
        "if PROJECT_ID == \"(unset)\":\n",
        "  PROJECT_ID = \"[your-project-id]\" # @param {type:\"string\"}\n",
        "\n",
        "print(PROJECT_ID)\n",
        "\n",
        "REGION = \"us-central1\" # @param {type:\"string\"}\n",
        "\n",
        "# An existing bucket to store pipeline artifacts.\n",
        "BUCKET_NAME = \"basic-kf-pipelines-mlops-dar\" # @param {type:\"string\"}\n",
        "\n",
        "# GCP settings\n",
        "GCS_BUCKET = \"gs://mlops-data-sources\" # @param {type:\"string\"}\n",
        "PIPELINE_ROOT = f\"{BUCKET_NAME}/pipeline-artifacts\"\n"
      ],
      "metadata": {
        "id": "zj9nuah98jYy"
      },
      "id": "zj9nuah98jYy",
      "execution_count": null,
      "outputs": []
    },
    {
      "cell_type": "code",
      "source": [
        "import google_cloud_pipeline_components\n",
        "print(google_cloud_pipeline_components.__version__)  # Should be a valid version number\n"
      ],
      "metadata": {
        "id": "_yhJyyEusbQA"
      },
      "id": "_yhJyyEusbQA",
      "execution_count": null,
      "outputs": []
    },
    {
      "cell_type": "markdown",
      "source": [
        "## Import the Google Cloud Components for a simple ML Pipeline"
      ],
      "metadata": {
        "id": "BUdt3n4kFhhA"
      },
      "id": "BUdt3n4kFhhA"
    },
    {
      "cell_type": "code",
      "source": [
        "import kfp\n",
        "from kfp import compiler\n",
        "from kfp.dsl import pipeline\n",
        "from google.cloud import aiplatform\n",
        "\n",
        "from google_cloud_pipeline_components.v1.automl.training_job import AutoMLTabularTrainingJobRunOp\n",
        "from google_cloud_pipeline_components.v1.dataset import TabularDatasetCreateOp\n",
        "from google_cloud_pipeline_components.v1.endpoint import (EndpointCreateOp,ModelDeployOp)\n",
        "\n",
        "# Initialize Vertex AI\n",
        "aiplatform.init(project=PROJECT_ID, location=REGION)"
      ],
      "metadata": {
        "id": "V1gS4jS-8r0-"
      },
      "id": "V1gS4jS-8r0-",
      "execution_count": null,
      "outputs": []
    },
    {
      "cell_type": "markdown",
      "source": [
        "## Build the Pipeline\n",
        "\n",
        "1. Create a Vertex AI Tabular Dataset\n",
        "2. Run the Training job with AutoML\n",
        "3. Create an Enpoint\n",
        "4. Deploy the Model to the Endpoint"
      ],
      "metadata": {
        "id": "URAgNi0_Fpxf"
      },
      "id": "URAgNi0_Fpxf"
    },
    {
      "cell_type": "code",
      "source": [
        "@pipeline(\n",
        "    name=\"flights-delay-prediction-pipeline\",\n",
        "    pipeline_root=PIPELINE_ROOT,\n",
        ")\n",
        "def flight_prediction_pipeline():\n",
        "    # Create Vertex AI Dataset\n",
        "    dataset_create_op = TabularDatasetCreateOp(\n",
        "        project=PROJECT_ID,\n",
        "        display_name=\"flights-dataset\",\n",
        "        gcs_source=f\"{GCS_BUCKET}/flights.csv\"\n",
        "    )\n",
        "\n",
        "    # Train AutoML Model\n",
        "    training_op = AutoMLTabularTrainingJobRunOp(\n",
        "        project=PROJECT_ID,\n",
        "        display_name=\"flights-delay-model\",\n",
        "        optimization_prediction_type=\"regression\",\n",
        "        dataset=dataset_create_op.outputs[\"dataset\"],\n",
        "        target_column=\"ARR_DELAY\",\n",
        "        budget_milli_node_hours=1000,\n",
        "    )\n",
        "\n",
        "    endpoint_op = EndpointCreateOp(\n",
        "        project=PROJECT_ID,\n",
        "        location=REGION,\n",
        "        display_name=\"flights-delay-model_endpoint\",\n",
        "    )\n",
        "\n",
        "    _ = ModelDeployOp(\n",
        "        model=training_op.outputs[\"model\"],\n",
        "        endpoint=endpoint_op.outputs[\"endpoint\"],\n",
        "        dedicated_resources_machine_type=\"n1-standard-4\",\n",
        "        dedicated_resources_min_replica_count=1,\n",
        "        dedicated_resources_max_replica_count=1,\n",
        "    )\n"
      ],
      "metadata": {
        "id": "jDFEDw-89COf"
      },
      "id": "jDFEDw-89COf",
      "execution_count": null,
      "outputs": []
    },
    {
      "cell_type": "markdown",
      "source": [
        "## Compile the Pipeline to a JSON file"
      ],
      "metadata": {
        "id": "qukGovEQF5zr"
      },
      "id": "qukGovEQF5zr"
    },
    {
      "cell_type": "code",
      "source": [
        "# Compile the pipeline\n",
        "compiler.Compiler().compile(\n",
        "    pipeline_func=flight_prediction_pipeline,\n",
        "    package_path=\"flight_prediction_pipeline.json\",\n",
        ")"
      ],
      "metadata": {
        "id": "1lpnIbxr9Oj4"
      },
      "id": "1lpnIbxr9Oj4",
      "execution_count": null,
      "outputs": []
    },
    {
      "cell_type": "markdown",
      "source": [
        "## Run the Job on Vertex AI Pipelines"
      ],
      "metadata": {
        "id": "62EuO1DfF_IK"
      },
      "id": "62EuO1DfF_IK"
    },
    {
      "cell_type": "code",
      "source": [
        "# Submit the pipeline to Vertex AI Pipelines\n",
        "pipeline_job = aiplatform.PipelineJob(\n",
        "    display_name=\"flights-delay-prediction-pipeline\",\n",
        "    template_path=\"flight_prediction_pipeline.json\",\n",
        "    pipeline_root=PIPELINE_ROOT,\n",
        ")\n",
        "\n",
        "pipeline_job.run()"
      ],
      "metadata": {
        "id": "ysHkm5OZ9VMH"
      },
      "id": "ysHkm5OZ9VMH",
      "execution_count": null,
      "outputs": []
    }
  ],
  "metadata": {
    "kernelspec": {
      "display_name": "Python 3",
      "language": "python",
      "name": "python3"
    },
    "language_info": {
      "codemirror_mode": {
        "name": "ipython",
        "version": 3
      },
      "file_extension": ".py",
      "mimetype": "text/x-python",
      "name": "python",
      "nbconvert_exporter": "python",
      "pygments_lexer": "ipython3",
      "version": "3.10.10"
    },
    "colab": {
      "provenance": [],
      "name": "3-kfp-flight-delays-with-google-components"
    }
  },
  "nbformat": 4,
  "nbformat_minor": 5
}