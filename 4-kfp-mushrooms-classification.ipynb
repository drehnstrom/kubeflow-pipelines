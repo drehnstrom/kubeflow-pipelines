{
  "cells": [
    {
      "cell_type": "markdown",
      "source": [
        "# Kubeflow Pipeline that Uses Vertex AI to train and deploy an Image Classification model\n",
        "\n",
        "Demonstrates how to use Google Kubeflow Components to do the following.\n",
        "\n",
        "1. Create a Vertex AI Image Dataset\n",
        "2. Run an Image Classification Training job with AutoML\n",
        "3. Create an Enpoint\n",
        "4. Deploy the Model to the Endpoint"
      ],
      "metadata": {
        "id": "-bNEsKfRL84D"
      },
      "id": "-bNEsKfRL84D"
    },
    {
      "cell_type": "code",
      "id": "5zHtArRZkMNi4eEtdYrr3sXN",
      "metadata": {
        "tags": [],
        "id": "5zHtArRZkMNi4eEtdYrr3sXN"
      },
      "source": [
        "!pip install --upgrade google-cloud-aiplatform google-cloud-pipeline-components kfp"
      ],
      "execution_count": null,
      "outputs": []
    },
    {
      "cell_type": "code",
      "source": [
        "# Change these values to match your project setup\n",
        "PROJECT_ID = ! gcloud config get-value project\n",
        "PROJECT_ID = PROJECT_ID[0]\n",
        "\n",
        "# define project information manually if the above code didn't work\n",
        "if PROJECT_ID == \"(unset)\":\n",
        "  PROJECT_ID = \"[your-project-id]\" # @param {type:\"string\"}\n",
        "\n",
        "print(PROJECT_ID)\n",
        "\n",
        "REGION = \"us-central1\" # @param {type:\"string\"}\n",
        "\n",
        "# An existing bucket to store pipeline artifacts.\n",
        "BUCKET_NAME = \"basic-kf-pipelines-mlops-dar\" # @param {type:\"string\"}\n",
        "\n",
        "# GCP settings\n",
        "GCS_BUCKET = \"gs://mlops-data-sources\" # @param {type:\"string\"}\n",
        "PIPELINE_ROOT = f\"{BUCKET_NAME}/pipeline-artifacts\"\n"
      ],
      "metadata": {
        "id": "cGTd_JfkyHLG"
      },
      "id": "cGTd_JfkyHLG",
      "execution_count": null,
      "outputs": []
    },
    {
      "cell_type": "code",
      "source": [
        "import kfp\n",
        "from google.cloud import aiplatform\n",
        "from google_cloud_pipeline_components.v1.dataset import ImageDatasetCreateOp\n",
        "from google_cloud_pipeline_components.v1.automl.training_job import AutoMLImageTrainingJobRunOp\n",
        "from google_cloud_pipeline_components.v1.endpoint import EndpointCreateOp, ModelDeployOp\n",
        "\n",
        "project_id = PROJECT_ID\n",
        "pipeline_root_path = PIPELINE_ROOT\n",
        "\n",
        "# Define the workflow of the pipeline.\n",
        "@kfp.dsl.pipeline(\n",
        "    name=\"mushrooms-classification-pipeline\",\n",
        "    pipeline_root=pipeline_root_path)\n",
        "def pipeline(project_id: str):\n",
        "    ds_op = ImageDatasetCreateOp(\n",
        "        project=project_id,\n",
        "        display_name=\"mushrooms\",\n",
        "        gcs_source=\"gs://mushrooms-dar/mushrooms.csv\",\n",
        "        import_schema_uri=aiplatform.schema.dataset.ioformat.image.single_label_classification,\n",
        "    )\n",
        "\n",
        "    training_job_run_op = AutoMLImageTrainingJobRunOp(\n",
        "        project=project_id,\n",
        "        display_name=\"mushrooms-training\",\n",
        "        prediction_type=\"classification\",\n",
        "        model_type=\"CLOUD\",\n",
        "        dataset=ds_op.outputs[\"dataset\"],\n",
        "        model_display_name=\"mushrooms-classification-model\",\n",
        "        training_fraction_split=0.6,\n",
        "        validation_fraction_split=0.2,\n",
        "        test_fraction_split=0.2,\n",
        "        budget_milli_node_hours=8000,\n",
        "    )\n",
        "\n",
        "\n",
        "    create_endpoint_op = EndpointCreateOp(\n",
        "        project=project_id,\n",
        "        display_name = \"mushrooms-endpoint\",\n",
        "    )\n",
        "\n",
        "    model_deploy_op = ModelDeployOp(\n",
        "        model=training_job_run_op.outputs[\"model\"],\n",
        "        endpoint=create_endpoint_op.outputs['endpoint'],\n",
        "        automatic_resources_min_replica_count=1,\n",
        "        automatic_resources_max_replica_count=1,\n",
        "    )"
      ],
      "metadata": {
        "id": "TD7nyKEwyQP9"
      },
      "id": "TD7nyKEwyQP9",
      "execution_count": null,
      "outputs": []
    },
    {
      "cell_type": "code",
      "source": [
        "from kfp import compiler\n",
        "\n",
        "compiler.Compiler().compile(\n",
        "    pipeline_func=pipeline,\n",
        "    package_path='mushrooms-image-classification-pipeline.yaml'\n",
        ")"
      ],
      "metadata": {
        "id": "-uGaLNObyzd1"
      },
      "id": "-uGaLNObyzd1",
      "execution_count": null,
      "outputs": []
    },
    {
      "cell_type": "code",
      "source": [
        "import google.cloud.aiplatform as aip\n",
        "\n",
        "# Before initializing, make sure to set the GOOGLE_APPLICATION_CREDENTIALS\n",
        "# environment variable to the path of your service account.\n",
        "aip.init(project=PROJECT_ID, location=REGION)\n",
        "\n",
        "# Prepare the pipeline job\n",
        "pipeline_job = aip.PipelineJob(\n",
        "    display_name=\"mushrooms-image-classification-pipeline\",\n",
        "    template_path=\"mushrooms-image-classification-pipeline.yaml\",\n",
        "    pipeline_root=pipeline_root_path,\n",
        "    parameter_values={\n",
        "        'project_id': PROJECT_ID\n",
        "    },\n",
        "    enable_caching=False\n",
        ")\n",
        "\n",
        "pipeline_job.submit()"
      ],
      "metadata": {
        "id": "keobpa_Py5Zc"
      },
      "id": "keobpa_Py5Zc",
      "execution_count": null,
      "outputs": []
    }
  ],
  "metadata": {
    "kernelspec": {
      "display_name": "Python 3",
      "language": "python",
      "name": "python3"
    },
    "language_info": {
      "codemirror_mode": {
        "name": "ipython",
        "version": 3
      },
      "file_extension": ".py",
      "mimetype": "text/x-python",
      "name": "python",
      "nbconvert_exporter": "python",
      "pygments_lexer": "ipython3",
      "version": "3.10.10"
    },
    "colab": {
      "provenance": [],
      "name": "4-kfp-mushrooms-classification"
    }
  },
  "nbformat": 4,
  "nbformat_minor": 5
}